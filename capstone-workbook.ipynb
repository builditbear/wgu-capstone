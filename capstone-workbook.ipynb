{
 "cells": [
  {
   "cell_type": "code",
   "execution_count": 1,
   "id": "7ff86354",
   "metadata": {},
   "outputs": [],
   "source": [
    "## Import necessary imports for data analysis and ML algorithm training.\n",
    "import numpy as np\n",
    "import pandas as pd\n",
    "import matplotlib.pyplot as plt\n",
    "%matplotlib inline"
   ]
  },
  {
   "cell_type": "code",
   "execution_count": 2,
   "id": "f67ee5e6",
   "metadata": {},
   "outputs": [
    {
     "data": {
      "text/html": [
       "<div>\n",
       "<style scoped>\n",
       "    .dataframe tbody tr th:only-of-type {\n",
       "        vertical-align: middle;\n",
       "    }\n",
       "\n",
       "    .dataframe tbody tr th {\n",
       "        vertical-align: top;\n",
       "    }\n",
       "\n",
       "    .dataframe thead th {\n",
       "        text-align: right;\n",
       "    }\n",
       "</style>\n",
       "<table border=\"1\" class=\"dataframe\">\n",
       "  <thead>\n",
       "    <tr style=\"text-align: right;\">\n",
       "      <th></th>\n",
       "      <th>name</th>\n",
       "      <th>diameter</th>\n",
       "      <th>weight</th>\n",
       "      <th>red</th>\n",
       "      <th>green</th>\n",
       "      <th>blue</th>\n",
       "    </tr>\n",
       "  </thead>\n",
       "  <tbody>\n",
       "    <tr>\n",
       "      <th>0</th>\n",
       "      <td>orange</td>\n",
       "      <td>2.96</td>\n",
       "      <td>86.76</td>\n",
       "      <td>172</td>\n",
       "      <td>85</td>\n",
       "      <td>2</td>\n",
       "    </tr>\n",
       "    <tr>\n",
       "      <th>1</th>\n",
       "      <td>orange</td>\n",
       "      <td>3.91</td>\n",
       "      <td>88.05</td>\n",
       "      <td>166</td>\n",
       "      <td>78</td>\n",
       "      <td>3</td>\n",
       "    </tr>\n",
       "    <tr>\n",
       "      <th>2</th>\n",
       "      <td>orange</td>\n",
       "      <td>4.42</td>\n",
       "      <td>95.17</td>\n",
       "      <td>156</td>\n",
       "      <td>81</td>\n",
       "      <td>2</td>\n",
       "    </tr>\n",
       "    <tr>\n",
       "      <th>3</th>\n",
       "      <td>orange</td>\n",
       "      <td>4.47</td>\n",
       "      <td>95.60</td>\n",
       "      <td>163</td>\n",
       "      <td>81</td>\n",
       "      <td>4</td>\n",
       "    </tr>\n",
       "    <tr>\n",
       "      <th>4</th>\n",
       "      <td>orange</td>\n",
       "      <td>4.48</td>\n",
       "      <td>95.76</td>\n",
       "      <td>161</td>\n",
       "      <td>72</td>\n",
       "      <td>9</td>\n",
       "    </tr>\n",
       "    <tr>\n",
       "      <th>...</th>\n",
       "      <td>...</td>\n",
       "      <td>...</td>\n",
       "      <td>...</td>\n",
       "      <td>...</td>\n",
       "      <td>...</td>\n",
       "      <td>...</td>\n",
       "    </tr>\n",
       "    <tr>\n",
       "      <th>9995</th>\n",
       "      <td>grapefruit</td>\n",
       "      <td>15.35</td>\n",
       "      <td>253.89</td>\n",
       "      <td>149</td>\n",
       "      <td>77</td>\n",
       "      <td>20</td>\n",
       "    </tr>\n",
       "    <tr>\n",
       "      <th>9996</th>\n",
       "      <td>grapefruit</td>\n",
       "      <td>15.41</td>\n",
       "      <td>254.67</td>\n",
       "      <td>148</td>\n",
       "      <td>68</td>\n",
       "      <td>7</td>\n",
       "    </tr>\n",
       "    <tr>\n",
       "      <th>9997</th>\n",
       "      <td>grapefruit</td>\n",
       "      <td>15.59</td>\n",
       "      <td>256.50</td>\n",
       "      <td>168</td>\n",
       "      <td>82</td>\n",
       "      <td>20</td>\n",
       "    </tr>\n",
       "    <tr>\n",
       "      <th>9998</th>\n",
       "      <td>grapefruit</td>\n",
       "      <td>15.92</td>\n",
       "      <td>260.14</td>\n",
       "      <td>142</td>\n",
       "      <td>72</td>\n",
       "      <td>11</td>\n",
       "    </tr>\n",
       "    <tr>\n",
       "      <th>9999</th>\n",
       "      <td>grapefruit</td>\n",
       "      <td>16.45</td>\n",
       "      <td>261.51</td>\n",
       "      <td>152</td>\n",
       "      <td>74</td>\n",
       "      <td>2</td>\n",
       "    </tr>\n",
       "  </tbody>\n",
       "</table>\n",
       "<p>10000 rows × 6 columns</p>\n",
       "</div>"
      ],
      "text/plain": [
       "            name  diameter  weight  red  green  blue\n",
       "0         orange      2.96   86.76  172     85     2\n",
       "1         orange      3.91   88.05  166     78     3\n",
       "2         orange      4.42   95.17  156     81     2\n",
       "3         orange      4.47   95.60  163     81     4\n",
       "4         orange      4.48   95.76  161     72     9\n",
       "...          ...       ...     ...  ...    ...   ...\n",
       "9995  grapefruit     15.35  253.89  149     77    20\n",
       "9996  grapefruit     15.41  254.67  148     68     7\n",
       "9997  grapefruit     15.59  256.50  168     82    20\n",
       "9998  grapefruit     15.92  260.14  142     72    11\n",
       "9999  grapefruit     16.45  261.51  152     74     2\n",
       "\n",
       "[10000 rows x 6 columns]"
      ]
     },
     "execution_count": 2,
     "metadata": {},
     "output_type": "execute_result"
    }
   ],
   "source": [
    "citrus_data = pd.read_csv(\"citrus.csv\")\n",
    "citrus_data"
   ]
  },
  {
   "cell_type": "markdown",
   "id": "f68e3cbf",
   "metadata": {},
   "source": [
    "# Proposed Business Problem:"
   ]
  },
  {
   "cell_type": "markdown",
   "id": "8e8b990c",
   "metadata": {},
   "source": [
    "WhatPlayNext inc. is a (fictional) North American IT consulting firm that specializes in offering video game publishers advice on what kind of games to work on next to maximize revenue. Historically, WhatPlayNext has derived its recommendations from research conducted by large teams of industry experts who would manually study sources including, but not limited to, video game sales data, social media trends, and the sum of their own personal experiences. This approach has proven to be costly, however, and has been met with mixed success by clients. As a result, WhatPlayNext's client base has begun to shrink, due to declining client confidence in the company's advice."
   ]
  },
  {
   "cell_type": "markdown",
   "id": "673e0484",
   "metadata": {},
   "source": [
    "# Proposed ML-Based Solution"
   ]
  },
  {
   "cell_type": "markdown",
   "id": "f57a5e1c",
   "metadata": {},
   "source": [
    "As WhatPlayNext's recently hired ML engineer, I will devise a ML model capable of predicting the revenue generated by any proposed video game given the game's genre, platform, and publisher within 10% of the game's actual revenue 70% of the time."
   ]
  },
  {
   "cell_type": "markdown",
   "id": "dbeca55a",
   "metadata": {},
   "source": [
    "## Step 1. Prep Data for ML Training"
   ]
  },
  {
   "cell_type": "code",
   "execution_count": 3,
   "id": "bb8175a8",
   "metadata": {},
   "outputs": [
    {
     "data": {
      "text/plain": [
       "name        0\n",
       "diameter    0\n",
       "weight      0\n",
       "red         0\n",
       "green       0\n",
       "blue        0\n",
       "dtype: int64"
      ]
     },
     "execution_count": 3,
     "metadata": {},
     "output_type": "execute_result"
    }
   ],
   "source": [
    "# Check for any missing values....\n",
    "citrus_data.isna().sum()"
   ]
  },
  {
   "cell_type": "code",
   "execution_count": 4,
   "id": "fffd9bcf",
   "metadata": {},
   "outputs": [
    {
     "data": {
      "text/html": [
       "<div>\n",
       "<style scoped>\n",
       "    .dataframe tbody tr th:only-of-type {\n",
       "        vertical-align: middle;\n",
       "    }\n",
       "\n",
       "    .dataframe tbody tr th {\n",
       "        vertical-align: top;\n",
       "    }\n",
       "\n",
       "    .dataframe thead th {\n",
       "        text-align: right;\n",
       "    }\n",
       "</style>\n",
       "<table border=\"1\" class=\"dataframe\">\n",
       "  <thead>\n",
       "    <tr style=\"text-align: right;\">\n",
       "      <th></th>\n",
       "      <th>name</th>\n",
       "      <th>diameter</th>\n",
       "      <th>weight</th>\n",
       "      <th>red</th>\n",
       "      <th>green</th>\n",
       "      <th>blue</th>\n",
       "    </tr>\n",
       "  </thead>\n",
       "  <tbody>\n",
       "    <tr>\n",
       "      <th>0</th>\n",
       "      <td>orange</td>\n",
       "      <td>2.96</td>\n",
       "      <td>86.76</td>\n",
       "      <td>172</td>\n",
       "      <td>85</td>\n",
       "      <td>2</td>\n",
       "    </tr>\n",
       "    <tr>\n",
       "      <th>1</th>\n",
       "      <td>orange</td>\n",
       "      <td>3.91</td>\n",
       "      <td>88.05</td>\n",
       "      <td>166</td>\n",
       "      <td>78</td>\n",
       "      <td>3</td>\n",
       "    </tr>\n",
       "    <tr>\n",
       "      <th>2</th>\n",
       "      <td>orange</td>\n",
       "      <td>4.42</td>\n",
       "      <td>95.17</td>\n",
       "      <td>156</td>\n",
       "      <td>81</td>\n",
       "      <td>2</td>\n",
       "    </tr>\n",
       "    <tr>\n",
       "      <th>3</th>\n",
       "      <td>orange</td>\n",
       "      <td>4.47</td>\n",
       "      <td>95.60</td>\n",
       "      <td>163</td>\n",
       "      <td>81</td>\n",
       "      <td>4</td>\n",
       "    </tr>\n",
       "    <tr>\n",
       "      <th>4</th>\n",
       "      <td>orange</td>\n",
       "      <td>4.48</td>\n",
       "      <td>95.76</td>\n",
       "      <td>161</td>\n",
       "      <td>72</td>\n",
       "      <td>9</td>\n",
       "    </tr>\n",
       "  </tbody>\n",
       "</table>\n",
       "</div>"
      ],
      "text/plain": [
       "     name  diameter  weight  red  green  blue\n",
       "0  orange      2.96   86.76  172     85     2\n",
       "1  orange      3.91   88.05  166     78     3\n",
       "2  orange      4.42   95.17  156     81     2\n",
       "3  orange      4.47   95.60  163     81     4\n",
       "4  orange      4.48   95.76  161     72     9"
      ]
     },
     "execution_count": 4,
     "metadata": {},
     "output_type": "execute_result"
    }
   ],
   "source": [
    "citrus_data.head()"
   ]
  },
  {
   "cell_type": "code",
   "execution_count": 5,
   "id": "81cbcddd",
   "metadata": {},
   "outputs": [],
   "source": [
    "from sklearn.model_selection import train_test_split\n",
    "\n",
    "X = citrus_data.drop(\"name\", axis=1)\n",
    "y = citrus_data[\"name\"]\n",
    "\n",
    "# Need to split the data into training and test sets.\n",
    "X_train, X_test, y_train, y_test = train_test_split(X, y, test_size=0.2)\n",
    "# Split the training sets further into training and validation sets.\n",
    "X_train, X_valid, y_train, y_valid = train_test_split(X_train, y_train, test_size=0.2)"
   ]
  },
  {
   "cell_type": "code",
   "execution_count": 6,
   "id": "bf4de3c2",
   "metadata": {},
   "outputs": [],
   "source": [
    "# Now, to convert the the categorical data column to numeric data.\n",
    "from sklearn.preprocessing import LabelEncoder\n",
    "\n",
    "encoder = LabelEncoder()\n",
    "y_train_encoded = encoder.fit_transform(y_train)\n",
    "y_valid_encoded = encoder.transform(y_valid)\n",
    "y_test_encoded = encoder.transform(y_test)"
   ]
  },
  {
   "cell_type": "markdown",
   "id": "8562cc82",
   "metadata": {},
   "source": [
    "## Step 2: Choose ML estimator/algorithm"
   ]
  },
  {
   "cell_type": "markdown",
   "id": "6654b962",
   "metadata": {},
   "source": [
    "![Scikit Learn Choice Map](https://scikit-learn.org/stable/_static/ml_map.png)"
   ]
  },
  {
   "cell_type": "markdown",
   "id": "3aef96e9",
   "metadata": {},
   "source": [
    "Using the above decision tree, our first attempt should be to use the Linear SVC model."
   ]
  },
  {
   "cell_type": "code",
   "execution_count": 7,
   "id": "bf593ae3",
   "metadata": {},
   "outputs": [
    {
     "name": "stderr",
     "output_type": "stream",
     "text": [
      "/Users/brandonchavez/documents/projects/wgu-capstone/env/lib/python3.9/site-packages/sklearn/svm/_base.py:1206: ConvergenceWarning: Liblinear failed to converge, increase the number of iterations.\n",
      "  warnings.warn(\n",
      "/Users/brandonchavez/documents/projects/wgu-capstone/env/lib/python3.9/site-packages/sklearn/svm/_base.py:1206: ConvergenceWarning: Liblinear failed to converge, increase the number of iterations.\n",
      "  warnings.warn(\n",
      "/Users/brandonchavez/documents/projects/wgu-capstone/env/lib/python3.9/site-packages/sklearn/svm/_base.py:1206: ConvergenceWarning: Liblinear failed to converge, increase the number of iterations.\n",
      "  warnings.warn(\n",
      "/Users/brandonchavez/documents/projects/wgu-capstone/env/lib/python3.9/site-packages/sklearn/svm/_base.py:1206: ConvergenceWarning: Liblinear failed to converge, increase the number of iterations.\n",
      "  warnings.warn(\n",
      "/Users/brandonchavez/documents/projects/wgu-capstone/env/lib/python3.9/site-packages/sklearn/svm/_base.py:1206: ConvergenceWarning: Liblinear failed to converge, increase the number of iterations.\n",
      "  warnings.warn(\n"
     ]
    },
    {
     "data": {
      "text/plain": [
       "CalibratedClassifierCV(base_estimator=LinearSVC(max_iter=10000))"
      ]
     },
     "execution_count": 7,
     "metadata": {},
     "output_type": "execute_result"
    }
   ],
   "source": [
    "from sklearn.svm import LinearSVC\n",
    "from sklearn.calibration import CalibratedClassifierCV\n",
    "\n",
    "model = CalibratedClassifierCV(base_estimator=LinearSVC(max_iter=10000))\n",
    "# model = LinearSVC(max_iter=10000)\n",
    "model.fit(X_train, y_train_encoded)"
   ]
  },
  {
   "cell_type": "code",
   "execution_count": 8,
   "id": "1240ec58",
   "metadata": {},
   "outputs": [],
   "source": [
    "# The data might be taking too long to converge because the values for\n",
    "# each column are on vastly different scales. Let's try scaling each feature\n",
    "# to a value between 0 and 1.0 before trying again.\n",
    "from sklearn.preprocessing import StandardScaler\n",
    "\n",
    "scaler = StandardScaler()\n",
    "X_train_scaled = scaler.fit_transform(X_train, y_train_encoded)\n",
    "X_valid_scaled = scaler.fit_transform(X_valid, y_valid_encoded)\n",
    "X_test_scaled = scaler.fit_transform(X_test, y_test_encoded)"
   ]
  },
  {
   "cell_type": "code",
   "execution_count": 9,
   "id": "098cd6ca",
   "metadata": {},
   "outputs": [
    {
     "data": {
      "text/plain": [
       "0.954375"
      ]
     },
     "execution_count": 9,
     "metadata": {},
     "output_type": "execute_result"
    }
   ],
   "source": [
    "np.random.seed(17)\n",
    "\n",
    "model = CalibratedClassifierCV(base_estimator=LinearSVC(max_iter=10000))\n",
    "model.fit(X_train_scaled, y_train_encoded)\n",
    "model.score(X_valid_scaled, y_valid_encoded)"
   ]
  },
  {
   "cell_type": "code",
   "execution_count": 10,
   "id": "ae4c24c9",
   "metadata": {},
   "outputs": [
    {
     "data": {
      "text/plain": [
       "0.955"
      ]
     },
     "execution_count": 10,
     "metadata": {},
     "output_type": "execute_result"
    }
   ],
   "source": [
    "model.score(X_train_scaled, y_train_encoded)"
   ]
  },
  {
   "cell_type": "code",
   "execution_count": 11,
   "id": "d8918650",
   "metadata": {},
   "outputs": [
    {
     "data": {
      "text/plain": [
       "<sklearn.metrics._plot.confusion_matrix.ConfusionMatrixDisplay at 0x135a31280>"
      ]
     },
     "execution_count": 11,
     "metadata": {},
     "output_type": "execute_result"
    },
    {
     "data": {
      "image/png": "[encoded data removed]",
      "text/plain": [
       "<Figure size 432x288 with 2 Axes>"
      ]
     },
     "metadata": {
      "needs_background": "light"
     },
     "output_type": "display_data"
    }
   ],
   "source": [
    "# The model appears to have done well on the validation dataset, but we\n",
    "# should take further metrics to assess the model's predictive performance.\n",
    "# Let's start by making a Confusion Matrix.\n",
    "from sklearn.metrics import confusion_matrix\n",
    "from sklearn.metrics import ConfusionMatrixDisplay\n",
    "ConfusionMatrixDisplay.from_estimator(estimator=model, X=X_valid_scaled, y=y_valid_encoded)"
   ]
  },
  {
   "cell_type": "code",
   "execution_count": 12,
   "id": "411c5d88",
   "metadata": {},
   "outputs": [
    {
     "name": "stdout",
     "output_type": "stream",
     "text": [
      "              precision    recall  f1-score   support\n",
      "\n",
      "           0       0.94      0.97      0.96       801\n",
      "           1       0.97      0.94      0.95       799\n",
      "\n",
      "    accuracy                           0.95      1600\n",
      "   macro avg       0.95      0.95      0.95      1600\n",
      "weighted avg       0.95      0.95      0.95      1600\n",
      "\n"
     ]
    }
   ],
   "source": [
    "# A classfication report couldn't hurt either.\n",
    "from sklearn.metrics import classification_report\n",
    "y_preds = model.predict(X_valid_scaled)\n",
    "\n",
    "print(classification_report(y_valid_encoded, y_preds))"
   ]
  },
  {
   "cell_type": "code",
   "execution_count": 13,
   "id": "3bdc058a",
   "metadata": {},
   "outputs": [
    {
     "data": {
      "text/plain": [
       "0.9605"
      ]
     },
     "execution_count": 13,
     "metadata": {},
     "output_type": "execute_result"
    }
   ],
   "source": [
    "# Looking pretty great! Let's move on to the test sets and see if \n",
    "# the model's performance holds up and seems reasonable.\n",
    "model.score(X_test_scaled, y_test_encoded)"
   ]
  },
  {
   "cell_type": "code",
   "execution_count": 14,
   "id": "4bd9f538",
   "metadata": {},
   "outputs": [
    {
     "data": {
      "text/plain": [
       "<sklearn.metrics._plot.confusion_matrix.ConfusionMatrixDisplay at 0x1359f2310>"
      ]
     },
     "execution_count": 14,
     "metadata": {},
     "output_type": "execute_result"
    },
    {
     "data": {
      "image/png": "[encoded data removed]",
      "text/plain": [
       "<Figure size 432x288 with 2 Axes>"
      ]
     },
     "metadata": {
      "needs_background": "light"
     },
     "output_type": "display_data"
    }
   ],
   "source": [
    "# Run the same performance metrics as was done for validation data.\n",
    "from sklearn.metrics import confusion_matrix\n",
    "from sklearn.metrics import ConfusionMatrixDisplay\n",
    "ConfusionMatrixDisplay.from_estimator(estimator=model, X=X_test_scaled, y=y_test_encoded)"
   ]
  },
  {
   "cell_type": "code",
   "execution_count": 15,
   "id": "83be4de4",
   "metadata": {},
   "outputs": [
    {
     "name": "stdout",
     "output_type": "stream",
     "text": [
      "              precision    recall  f1-score   support\n",
      "\n",
      "           0       0.95      0.97      0.96      1001\n",
      "           1       0.97      0.95      0.96       999\n",
      "\n",
      "    accuracy                           0.96      2000\n",
      "   macro avg       0.96      0.96      0.96      2000\n",
      "weighted avg       0.96      0.96      0.96      2000\n",
      "\n"
     ]
    }
   ],
   "source": [
    "from sklearn.metrics import classification_report\n",
    "y_predictions = model.predict(X_test_scaled)\n",
    "\n",
    "print(classification_report(y_test_encoded, y_predictions))"
   ]
  },
  {
   "cell_type": "code",
   "execution_count": 16,
   "id": "9a5554e0",
   "metadata": {},
   "outputs": [],
   "source": [
    "# Looks like we have a working model!!"
   ]
  },
  {
   "cell_type": "code",
   "execution_count": 17,
   "id": "8af2e4c1",
   "metadata": {},
   "outputs": [
    {
     "data": {
      "image/png": "[encoded data removed]",
      "text/plain": [
       "<Figure size 864x360 with 2 Axes>"
      ]
     },
     "metadata": {
      "needs_background": "light"
     },
     "output_type": "display_data"
    }
   ],
   "source": [
    "# Creating some plots for use as data visualization in the eventual web app.\n",
    "from mpl_toolkits import mplot3d\n",
    "\n",
    "encoded_name = list(map((lambda name : 0 if name == \"grapefruit\" else 1),\n",
    "                         citrus_data[\"name\"]))\n",
    "# Create figure to contain subplots.\n",
    "fig = plt.figure(figsize=(12, 5))\n",
    "\n",
    "# Create first axis and subplot.\n",
    "ax1 = fig.add_subplot(1, 2, 1, label=\"ax1\")\n",
    "ax1.set(title=\"Grapefruit v. Orange Proportions\",\n",
    "        xlabel=\"Diameter (cm)\",\n",
    "        ylabel=\"Weight (g)\")\n",
    "diameter_v_weight_scatter = ax1.scatter(citrus_data[\"diameter\"],\n",
    "                                        citrus_data[\"weight\"],\n",
    "                                        c=encoded_name)\n",
    "plot_handles = diameter_v_weight_scatter.legend_elements()[0]\n",
    "ax1.legend(title=\"Fruit Type\", handles=plot_handles, labels=[\"Grapefruit\", \"Orange\"])\n",
    "\n",
    "# Create second axis and subplot.\n",
    "ax2 = fig.add_subplot(1, 2, 2, projection='3d', label=\"ax2\")\n",
    "ax2.set(title=\"Grapefruit v. Orange Color Distribution (by RGB Value)\",\n",
    "        xlabel=\"red\",\n",
    "        ylabel=\"green\",\n",
    "        zlabel=\"blue\")\n",
    "color_scatter = ax2.scatter3D(citrus_data[\"red\"], \n",
    "                              citrus_data[\"green\"], \n",
    "                              citrus_data[\"blue\"],\n",
    "                              c=encoded_name)\n",
    "ax2.view_init(15, 60)\n"
   ]
  },
  {
   "cell_type": "code",
   "execution_count": 18,
   "id": "2a474f0b",
   "metadata": {},
   "outputs": [
    {
     "data": {
      "text/plain": [
       "[<matplotlib.lines.Line2D at 0x1371ef730>,\n",
       " <matplotlib.lines.Line2D at 0x137384790>]"
      ]
     },
     "execution_count": 18,
     "metadata": {},
     "output_type": "execute_result"
    }
   ],
   "source": [
    "diameter_v_weight_scatter.legend_elements(num=[0, 1])[0]"
   ]
  },
  {
   "cell_type": "code",
   "execution_count": 19,
   "id": "a3c38d2b",
   "metadata": {},
   "outputs": [
    {
     "data": {
      "text/plain": [
       "621         orange\n",
       "9822    grapefruit\n",
       "5551    grapefruit\n",
       "424         orange\n",
       "7819    grapefruit\n",
       "Name: name, dtype: object"
      ]
     },
     "execution_count": 19,
     "metadata": {},
     "output_type": "execute_result"
    }
   ],
   "source": [
    "y_test.head()"
   ]
  },
  {
   "cell_type": "code",
   "execution_count": 20,
   "id": "3fc5ddea",
   "metadata": {},
   "outputs": [
    {
     "data": {
      "text/plain": [
       "array([1, 0, 0, ..., 1, 1, 1])"
      ]
     },
     "execution_count": 20,
     "metadata": {},
     "output_type": "execute_result"
    }
   ],
   "source": [
    "y_test_encoded"
   ]
  },
  {
   "cell_type": "code",
   "execution_count": 21,
   "id": "dcc4b86b",
   "metadata": {},
   "outputs": [],
   "source": [
    "# Save the model for later use in our eventual app!\n",
    "import pickle\n",
    "output = open(\"fruit-classifier.pkl\", mode=\"wb\")\n",
    "pickle.dump(model, output)\n",
    "output.close()"
   ]
  },
  {
   "cell_type": "code",
   "execution_count": 22,
   "id": "b0e4266d",
   "metadata": {},
   "outputs": [
    {
     "name": "stderr",
     "output_type": "stream",
     "text": [
      "/Users/brandonchavez/documents/projects/wgu-capstone/env/lib/python3.9/site-packages/sklearn/base.py:450: UserWarning: X does not have valid feature names, but StandardScaler was fitted with feature names\n",
      "  warnings.warn(\n"
     ]
    },
    {
     "data": {
      "text/plain": [
       "array([[0., 1.]])"
      ]
     },
     "execution_count": 22,
     "metadata": {},
     "output_type": "execute_result"
    }
   ],
   "source": [
    "scaled_input = scaler.transform([[2.9, 90, 160, 80, 2]])\n",
    "prediction = model.predict_proba(scaled_input)\n",
    "prediction"
   ]
  },
  {
   "cell_type": "code",
   "execution_count": 23,
   "id": "3acd4e45",
   "metadata": {},
   "outputs": [],
   "source": [
    "# Save the scaler to scale later prediction input.\n",
    "output = open(\"input-scaler.pkl\", mode=\"wb\")\n",
    "pickle.dump(scaler, output)\n",
    "output.close()"
   ]
  },
  {
   "cell_type": "code",
   "execution_count": 24,
   "id": "b5cf6a6d",
   "metadata": {},
   "outputs": [
    {
     "data": {
      "text/html": [
       "<div>\n",
       "<style scoped>\n",
       "    .dataframe tbody tr th:only-of-type {\n",
       "        vertical-align: middle;\n",
       "    }\n",
       "\n",
       "    .dataframe tbody tr th {\n",
       "        vertical-align: top;\n",
       "    }\n",
       "\n",
       "    .dataframe thead th {\n",
       "        text-align: right;\n",
       "    }\n",
       "</style>\n",
       "<table border=\"1\" class=\"dataframe\">\n",
       "  <thead>\n",
       "    <tr style=\"text-align: right;\">\n",
       "      <th></th>\n",
       "      <th>name</th>\n",
       "      <th>diameter</th>\n",
       "      <th>weight</th>\n",
       "      <th>red</th>\n",
       "      <th>green</th>\n",
       "      <th>blue</th>\n",
       "    </tr>\n",
       "  </thead>\n",
       "  <tbody>\n",
       "    <tr>\n",
       "      <th>0</th>\n",
       "      <td>orange</td>\n",
       "      <td>2.96</td>\n",
       "      <td>86.76</td>\n",
       "      <td>172</td>\n",
       "      <td>85</td>\n",
       "      <td>2</td>\n",
       "    </tr>\n",
       "    <tr>\n",
       "      <th>1</th>\n",
       "      <td>orange</td>\n",
       "      <td>3.91</td>\n",
       "      <td>88.05</td>\n",
       "      <td>166</td>\n",
       "      <td>78</td>\n",
       "      <td>3</td>\n",
       "    </tr>\n",
       "    <tr>\n",
       "      <th>2</th>\n",
       "      <td>orange</td>\n",
       "      <td>4.42</td>\n",
       "      <td>95.17</td>\n",
       "      <td>156</td>\n",
       "      <td>81</td>\n",
       "      <td>2</td>\n",
       "    </tr>\n",
       "    <tr>\n",
       "      <th>3</th>\n",
       "      <td>orange</td>\n",
       "      <td>4.47</td>\n",
       "      <td>95.60</td>\n",
       "      <td>163</td>\n",
       "      <td>81</td>\n",
       "      <td>4</td>\n",
       "    </tr>\n",
       "    <tr>\n",
       "      <th>4</th>\n",
       "      <td>orange</td>\n",
       "      <td>4.48</td>\n",
       "      <td>95.76</td>\n",
       "      <td>161</td>\n",
       "      <td>72</td>\n",
       "      <td>9</td>\n",
       "    </tr>\n",
       "    <tr>\n",
       "      <th>...</th>\n",
       "      <td>...</td>\n",
       "      <td>...</td>\n",
       "      <td>...</td>\n",
       "      <td>...</td>\n",
       "      <td>...</td>\n",
       "      <td>...</td>\n",
       "    </tr>\n",
       "    <tr>\n",
       "      <th>9995</th>\n",
       "      <td>grapefruit</td>\n",
       "      <td>15.35</td>\n",
       "      <td>253.89</td>\n",
       "      <td>149</td>\n",
       "      <td>77</td>\n",
       "      <td>20</td>\n",
       "    </tr>\n",
       "    <tr>\n",
       "      <th>9996</th>\n",
       "      <td>grapefruit</td>\n",
       "      <td>15.41</td>\n",
       "      <td>254.67</td>\n",
       "      <td>148</td>\n",
       "      <td>68</td>\n",
       "      <td>7</td>\n",
       "    </tr>\n",
       "    <tr>\n",
       "      <th>9997</th>\n",
       "      <td>grapefruit</td>\n",
       "      <td>15.59</td>\n",
       "      <td>256.50</td>\n",
       "      <td>168</td>\n",
       "      <td>82</td>\n",
       "      <td>20</td>\n",
       "    </tr>\n",
       "    <tr>\n",
       "      <th>9998</th>\n",
       "      <td>grapefruit</td>\n",
       "      <td>15.92</td>\n",
       "      <td>260.14</td>\n",
       "      <td>142</td>\n",
       "      <td>72</td>\n",
       "      <td>11</td>\n",
       "    </tr>\n",
       "    <tr>\n",
       "      <th>9999</th>\n",
       "      <td>grapefruit</td>\n",
       "      <td>16.45</td>\n",
       "      <td>261.51</td>\n",
       "      <td>152</td>\n",
       "      <td>74</td>\n",
       "      <td>2</td>\n",
       "    </tr>\n",
       "  </tbody>\n",
       "</table>\n",
       "<p>10000 rows × 6 columns</p>\n",
       "</div>"
      ],
      "text/plain": [
       "            name  diameter  weight  red  green  blue\n",
       "0         orange      2.96   86.76  172     85     2\n",
       "1         orange      3.91   88.05  166     78     3\n",
       "2         orange      4.42   95.17  156     81     2\n",
       "3         orange      4.47   95.60  163     81     4\n",
       "4         orange      4.48   95.76  161     72     9\n",
       "...          ...       ...     ...  ...    ...   ...\n",
       "9995  grapefruit     15.35  253.89  149     77    20\n",
       "9996  grapefruit     15.41  254.67  148     68     7\n",
       "9997  grapefruit     15.59  256.50  168     82    20\n",
       "9998  grapefruit     15.92  260.14  142     72    11\n",
       "9999  grapefruit     16.45  261.51  152     74     2\n",
       "\n",
       "[10000 rows x 6 columns]"
      ]
     },
     "execution_count": 24,
     "metadata": {},
     "output_type": "execute_result"
    }
   ],
   "source": [
    "citrus_data"
   ]
  },
  {
   "cell_type": "code",
   "execution_count": 31,
   "id": "7125e390",
   "metadata": {},
   "outputs": [
    {
     "data": {
      "text/html": [
       "<div>\n",
       "<style scoped>\n",
       "    .dataframe tbody tr th:only-of-type {\n",
       "        vertical-align: middle;\n",
       "    }\n",
       "\n",
       "    .dataframe tbody tr th {\n",
       "        vertical-align: top;\n",
       "    }\n",
       "\n",
       "    .dataframe thead th {\n",
       "        text-align: right;\n",
       "    }\n",
       "</style>\n",
       "<table border=\"1\" class=\"dataframe\">\n",
       "  <thead>\n",
       "    <tr style=\"text-align: right;\">\n",
       "      <th></th>\n",
       "      <th>0</th>\n",
       "      <th>1</th>\n",
       "      <th>2</th>\n",
       "      <th>3</th>\n",
       "      <th>4</th>\n",
       "    </tr>\n",
       "  </thead>\n",
       "  <tbody>\n",
       "    <tr>\n",
       "      <th>0</th>\n",
       "      <td>1.964091</td>\n",
       "      <td>2.020444</td>\n",
       "      <td>0.101717</td>\n",
       "      <td>-2.747355</td>\n",
       "      <td>0.069225</td>\n",
       "    </tr>\n",
       "    <tr>\n",
       "      <th>1</th>\n",
       "      <td>0.840362</td>\n",
       "      <td>0.848067</td>\n",
       "      <td>-0.856605</td>\n",
       "      <td>-0.435348</td>\n",
       "      <td>0.949576</td>\n",
       "    </tr>\n",
       "    <tr>\n",
       "      <th>2</th>\n",
       "      <td>-1.309157</td>\n",
       "      <td>-1.305299</td>\n",
       "      <td>0.964206</td>\n",
       "      <td>1.791030</td>\n",
       "      <td>-1.031215</td>\n",
       "    </tr>\n",
       "    <tr>\n",
       "      <th>3</th>\n",
       "      <td>-1.180289</td>\n",
       "      <td>-1.183663</td>\n",
       "      <td>0.005885</td>\n",
       "      <td>0.592211</td>\n",
       "      <td>-0.370951</td>\n",
       "    </tr>\n",
       "    <tr>\n",
       "      <th>4</th>\n",
       "      <td>0.948611</td>\n",
       "      <td>0.960426</td>\n",
       "      <td>0.485046</td>\n",
       "      <td>-1.291647</td>\n",
       "      <td>-0.480995</td>\n",
       "    </tr>\n",
       "    <tr>\n",
       "      <th>...</th>\n",
       "      <td>...</td>\n",
       "      <td>...</td>\n",
       "      <td>...</td>\n",
       "      <td>...</td>\n",
       "      <td>...</td>\n",
       "    </tr>\n",
       "    <tr>\n",
       "      <th>6395</th>\n",
       "      <td>0.335199</td>\n",
       "      <td>0.293147</td>\n",
       "      <td>-1.527430</td>\n",
       "      <td>0.763471</td>\n",
       "      <td>0.619444</td>\n",
       "    </tr>\n",
       "    <tr>\n",
       "      <th>6396</th>\n",
       "      <td>-1.561738</td>\n",
       "      <td>-1.520739</td>\n",
       "      <td>0.197549</td>\n",
       "      <td>1.191620</td>\n",
       "      <td>-1.031215</td>\n",
       "    </tr>\n",
       "    <tr>\n",
       "      <th>6397</th>\n",
       "      <td>-1.128741</td>\n",
       "      <td>-1.133497</td>\n",
       "      <td>0.676710</td>\n",
       "      <td>0.677841</td>\n",
       "      <td>-1.031215</td>\n",
       "    </tr>\n",
       "    <tr>\n",
       "      <th>6398</th>\n",
       "      <td>0.087773</td>\n",
       "      <td>0.050906</td>\n",
       "      <td>-1.239934</td>\n",
       "      <td>-1.034757</td>\n",
       "      <td>0.619444</td>\n",
       "    </tr>\n",
       "    <tr>\n",
       "      <th>6399</th>\n",
       "      <td>0.654792</td>\n",
       "      <td>0.662521</td>\n",
       "      <td>-1.048269</td>\n",
       "      <td>-0.863497</td>\n",
       "      <td>-0.370951</td>\n",
       "    </tr>\n",
       "  </tbody>\n",
       "</table>\n",
       "<p>6400 rows × 5 columns</p>\n",
       "</div>"
      ],
      "text/plain": [
       "             0         1         2         3         4\n",
       "0     1.964091  2.020444  0.101717 -2.747355  0.069225\n",
       "1     0.840362  0.848067 -0.856605 -0.435348  0.949576\n",
       "2    -1.309157 -1.305299  0.964206  1.791030 -1.031215\n",
       "3    -1.180289 -1.183663  0.005885  0.592211 -0.370951\n",
       "4     0.948611  0.960426  0.485046 -1.291647 -0.480995\n",
       "...        ...       ...       ...       ...       ...\n",
       "6395  0.335199  0.293147 -1.527430  0.763471  0.619444\n",
       "6396 -1.561738 -1.520739  0.197549  1.191620 -1.031215\n",
       "6397 -1.128741 -1.133497  0.676710  0.677841 -1.031215\n",
       "6398  0.087773  0.050906 -1.239934 -1.034757  0.619444\n",
       "6399  0.654792  0.662521 -1.048269 -0.863497 -0.370951\n",
       "\n",
       "[6400 rows x 5 columns]"
      ]
     },
     "execution_count": 31,
     "metadata": {},
     "output_type": "execute_result"
    }
   ],
   "source": [
    "pd.DataFrame(X_train_scaled)"
   ]
  },
  {
   "cell_type": "code",
   "execution_count": null,
   "id": "c104f65c",
   "metadata": {},
   "outputs": [],
   "source": []
  }
 ],
 "metadata": {
  "kernelspec": {
   "display_name": "Python 3 (ipykernel)",
   "language": "python",
   "name": "python3"
  },
  "language_info": {
   "codemirror_mode": {
    "name": "ipython",
    "version": 3
   },
   "file_extension": ".py",
   "mimetype": "text/x-python",
   "name": "python",
   "nbconvert_exporter": "python",
   "pygments_lexer": "ipython3",
   "version": "3.9.12"
  }
 },
 "nbformat": 4,
 "nbformat_minor": 5
}
